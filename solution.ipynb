{
 "cells": [
  {
   "cell_type": "markdown",
   "metadata": {},
   "source": [
    "# Demo"
   ]
  },
  {
   "cell_type": "markdown",
   "metadata": {},
   "source": [
    "## Setup"
   ]
  },
  {
   "cell_type": "code",
   "execution_count": 2,
   "metadata": {},
   "outputs": [],
   "source": [
    "import pandas as pd\n",
    "import multiprocessing as mp\n",
    "import time\n",
    "\n",
    "from src.paths import CACHE_DIR"
   ]
  },
  {
   "cell_type": "code",
   "execution_count": 3,
   "metadata": {},
   "outputs": [
    {
     "name": "stdout",
     "output_type": "stream",
     "text": [
      "<class 'pandas.core.frame.DataFrame'>\n",
      "RangeIndex: 54750 entries, 0 to 54749\n",
      "Data columns (total 4 columns):\n",
      " #   Column       Non-Null Count  Dtype         \n",
      "---  ------       --------------  -----         \n",
      " 0   city         54750 non-null  object        \n",
      " 1   timestamp    54750 non-null  datetime64[ns]\n",
      " 2   temperature  54750 non-null  float64       \n",
      " 3   season       54750 non-null  object        \n",
      "dtypes: datetime64[ns](1), float64(1), object(2)\n",
      "memory usage: 1.7+ MB\n"
     ]
    }
   ],
   "source": [
    "data = pd.read_csv(CACHE_DIR / 'temperature_data.csv', parse_dates=['timestamp'])\n",
    "\n",
    "data.info()"
   ]
  },
  {
   "cell_type": "markdown",
   "metadata": {},
   "source": [
    "## Solution"
   ]
  },
  {
   "cell_type": "markdown",
   "metadata": {},
   "source": [
    "### 1. **Анализ исторических данных**:\n",
    "   - Вычислить **скользящее среднее** температуры с окном в 30 дней для сглаживания краткосрочных колебаний.\n",
    "   - Рассчитать среднюю температуру и стандартное отклонение для каждого сезона в каждом городе.\n",
    "   - Выявить аномалии, где температура выходит за пределы $ \\text{среднее} \\pm 2\\sigma $.\n",
    "   - Попробуйте распараллелить проведение этого анализа. Сравните скорость выполнения анализа с распараллеливанием и без него.\n",
    "\n"
   ]
  },
  {
   "cell_type": "code",
   "execution_count": 4,
   "metadata": {},
   "outputs": [],
   "source": [
    "from src.utils import add_features_sequential, add_features_parallelized"
   ]
  },
  {
   "cell_type": "code",
   "execution_count": 5,
   "metadata": {},
   "outputs": [
    {
     "name": "stdout",
     "output_type": "stream",
     "text": [
      "Number of available CPU cores: 12\n"
     ]
    }
   ],
   "source": [
    "num_processes = mp.cpu_count()\n",
    "\n",
    "print(f'Number of available CPU cores: {num_processes}')"
   ]
  },
  {
   "cell_type": "code",
   "execution_count": 6,
   "metadata": {},
   "outputs": [
    {
     "name": "stdout",
     "output_type": "stream",
     "text": [
      "Sequential analysis took: 0.0395s\n",
      "Parallel analysis took: 0.7513s\n",
      "Speedup: 0.05x\n"
     ]
    }
   ],
   "source": [
    "# Run analysis without parallelization and measure time\n",
    "start_time = time.time()\n",
    "df_sequential = add_features_sequential(data.copy())\n",
    "sequential_time = time.time() - start_time\n",
    "\n",
    "# Run analysis with parallelization and measure time\n",
    "start_time = time.time()\n",
    "df_parallel = add_features_parallelized(data.copy(), num_processes // 4)\n",
    "parallel_time = time.time() - start_time\n",
    "\n",
    "print(f\"Sequential analysis took: {sequential_time:.4f}s\")\n",
    "print(f\"Parallel analysis took: {parallel_time:.4f}s\")\n",
    "print(f\"Speedup: {sequential_time / parallel_time:.2f}x\")"
   ]
  },
  {
   "cell_type": "code",
   "execution_count": 7,
   "metadata": {},
   "outputs": [
    {
     "name": "stdout",
     "output_type": "stream",
     "text": [
      "Results with sequential analysis:\n"
     ]
    },
    {
     "data": {
      "text/html": [
       "<div>\n",
       "<style scoped>\n",
       "    .dataframe tbody tr th:only-of-type {\n",
       "        vertical-align: middle;\n",
       "    }\n",
       "\n",
       "    .dataframe tbody tr th {\n",
       "        vertical-align: top;\n",
       "    }\n",
       "\n",
       "    .dataframe thead th {\n",
       "        text-align: right;\n",
       "    }\n",
       "</style>\n",
       "<table border=\"1\" class=\"dataframe\">\n",
       "  <thead>\n",
       "    <tr style=\"text-align: right;\">\n",
       "      <th></th>\n",
       "      <th>city</th>\n",
       "      <th>timestamp</th>\n",
       "      <th>temperature</th>\n",
       "      <th>season</th>\n",
       "      <th>rolling_mean</th>\n",
       "      <th>seasonal_mean</th>\n",
       "      <th>seasonal_std</th>\n",
       "      <th>outlier</th>\n",
       "    </tr>\n",
       "  </thead>\n",
       "  <tbody>\n",
       "    <tr>\n",
       "      <th>0</th>\n",
       "      <td>New York</td>\n",
       "      <td>2010-01-01</td>\n",
       "      <td>-0.687582</td>\n",
       "      <td>winter</td>\n",
       "      <td>-0.687582</td>\n",
       "      <td>0.188809</td>\n",
       "      <td>5.186381</td>\n",
       "      <td>False</td>\n",
       "    </tr>\n",
       "    <tr>\n",
       "      <th>1</th>\n",
       "      <td>New York</td>\n",
       "      <td>2010-01-02</td>\n",
       "      <td>-2.672985</td>\n",
       "      <td>winter</td>\n",
       "      <td>-1.680284</td>\n",
       "      <td>0.188809</td>\n",
       "      <td>5.186381</td>\n",
       "      <td>False</td>\n",
       "    </tr>\n",
       "    <tr>\n",
       "      <th>2</th>\n",
       "      <td>New York</td>\n",
       "      <td>2010-01-03</td>\n",
       "      <td>-0.808035</td>\n",
       "      <td>winter</td>\n",
       "      <td>-1.389534</td>\n",
       "      <td>0.188809</td>\n",
       "      <td>5.186381</td>\n",
       "      <td>False</td>\n",
       "    </tr>\n",
       "    <tr>\n",
       "      <th>3</th>\n",
       "      <td>New York</td>\n",
       "      <td>2010-01-04</td>\n",
       "      <td>-3.996199</td>\n",
       "      <td>winter</td>\n",
       "      <td>-2.041200</td>\n",
       "      <td>0.188809</td>\n",
       "      <td>5.186381</td>\n",
       "      <td>False</td>\n",
       "    </tr>\n",
       "    <tr>\n",
       "      <th>4</th>\n",
       "      <td>New York</td>\n",
       "      <td>2010-01-05</td>\n",
       "      <td>-5.341203</td>\n",
       "      <td>winter</td>\n",
       "      <td>-2.701201</td>\n",
       "      <td>0.188809</td>\n",
       "      <td>5.186381</td>\n",
       "      <td>False</td>\n",
       "    </tr>\n",
       "  </tbody>\n",
       "</table>\n",
       "</div>"
      ],
      "text/plain": [
       "       city  timestamp  temperature  season  rolling_mean  seasonal_mean  \\\n",
       "0  New York 2010-01-01    -0.687582  winter     -0.687582       0.188809   \n",
       "1  New York 2010-01-02    -2.672985  winter     -1.680284       0.188809   \n",
       "2  New York 2010-01-03    -0.808035  winter     -1.389534       0.188809   \n",
       "3  New York 2010-01-04    -3.996199  winter     -2.041200       0.188809   \n",
       "4  New York 2010-01-05    -5.341203  winter     -2.701201       0.188809   \n",
       "\n",
       "   seasonal_std  outlier  \n",
       "0      5.186381    False  \n",
       "1      5.186381    False  \n",
       "2      5.186381    False  \n",
       "3      5.186381    False  \n",
       "4      5.186381    False  "
      ]
     },
     "metadata": {},
     "output_type": "display_data"
    },
    {
     "name": "stdout",
     "output_type": "stream",
     "text": [
      "Results with parallel analysis:\n"
     ]
    },
    {
     "data": {
      "text/html": [
       "<div>\n",
       "<style scoped>\n",
       "    .dataframe tbody tr th:only-of-type {\n",
       "        vertical-align: middle;\n",
       "    }\n",
       "\n",
       "    .dataframe tbody tr th {\n",
       "        vertical-align: top;\n",
       "    }\n",
       "\n",
       "    .dataframe thead th {\n",
       "        text-align: right;\n",
       "    }\n",
       "</style>\n",
       "<table border=\"1\" class=\"dataframe\">\n",
       "  <thead>\n",
       "    <tr style=\"text-align: right;\">\n",
       "      <th></th>\n",
       "      <th>city</th>\n",
       "      <th>timestamp</th>\n",
       "      <th>temperature</th>\n",
       "      <th>season</th>\n",
       "      <th>rolling_mean</th>\n",
       "      <th>seasonal_mean</th>\n",
       "      <th>seasonal_std</th>\n",
       "      <th>outlier</th>\n",
       "    </tr>\n",
       "  </thead>\n",
       "  <tbody>\n",
       "    <tr>\n",
       "      <th>0</th>\n",
       "      <td>New York</td>\n",
       "      <td>2010-01-01</td>\n",
       "      <td>-0.687582</td>\n",
       "      <td>winter</td>\n",
       "      <td>-0.687582</td>\n",
       "      <td>0.188809</td>\n",
       "      <td>5.186381</td>\n",
       "      <td>False</td>\n",
       "    </tr>\n",
       "    <tr>\n",
       "      <th>1</th>\n",
       "      <td>New York</td>\n",
       "      <td>2010-01-02</td>\n",
       "      <td>-2.672985</td>\n",
       "      <td>winter</td>\n",
       "      <td>-1.680284</td>\n",
       "      <td>0.188809</td>\n",
       "      <td>5.186381</td>\n",
       "      <td>False</td>\n",
       "    </tr>\n",
       "    <tr>\n",
       "      <th>2</th>\n",
       "      <td>New York</td>\n",
       "      <td>2010-01-03</td>\n",
       "      <td>-0.808035</td>\n",
       "      <td>winter</td>\n",
       "      <td>-1.389534</td>\n",
       "      <td>0.188809</td>\n",
       "      <td>5.186381</td>\n",
       "      <td>False</td>\n",
       "    </tr>\n",
       "    <tr>\n",
       "      <th>3</th>\n",
       "      <td>New York</td>\n",
       "      <td>2010-01-04</td>\n",
       "      <td>-3.996199</td>\n",
       "      <td>winter</td>\n",
       "      <td>-2.041200</td>\n",
       "      <td>0.188809</td>\n",
       "      <td>5.186381</td>\n",
       "      <td>False</td>\n",
       "    </tr>\n",
       "    <tr>\n",
       "      <th>4</th>\n",
       "      <td>New York</td>\n",
       "      <td>2010-01-05</td>\n",
       "      <td>-5.341203</td>\n",
       "      <td>winter</td>\n",
       "      <td>-2.701201</td>\n",
       "      <td>0.188809</td>\n",
       "      <td>5.186381</td>\n",
       "      <td>False</td>\n",
       "    </tr>\n",
       "  </tbody>\n",
       "</table>\n",
       "</div>"
      ],
      "text/plain": [
       "       city  timestamp  temperature  season  rolling_mean  seasonal_mean  \\\n",
       "0  New York 2010-01-01    -0.687582  winter     -0.687582       0.188809   \n",
       "1  New York 2010-01-02    -2.672985  winter     -1.680284       0.188809   \n",
       "2  New York 2010-01-03    -0.808035  winter     -1.389534       0.188809   \n",
       "3  New York 2010-01-04    -3.996199  winter     -2.041200       0.188809   \n",
       "4  New York 2010-01-05    -5.341203  winter     -2.701201       0.188809   \n",
       "\n",
       "   seasonal_std  outlier  \n",
       "0      5.186381    False  \n",
       "1      5.186381    False  \n",
       "2      5.186381    False  \n",
       "3      5.186381    False  \n",
       "4      5.186381    False  "
      ]
     },
     "metadata": {},
     "output_type": "display_data"
    }
   ],
   "source": [
    "print(\"Results with sequential analysis:\")\n",
    "display(df_sequential.head())\n",
    "print(\"Results with parallel analysis:\")\n",
    "display(df_parallel.head())"
   ]
  },
  {
   "cell_type": "markdown",
   "metadata": {},
   "source": [
    "### 2. **Мониторинг текущей температуры**:\n",
    "   - Подключить OpenWeatherMap API для получения текущей температуры города. Для получения API Key (бесплатно) надо зарегистрироваться на сайте. Обратите внимание, что API Key может активироваться только через 2-3 часа, это нормально. Посему получите ключ заранее.\n",
    "   - Получить текущую температуру для выбранного города через OpenWeatherMap API.\n",
    "   - Определить, является ли текущая температура нормальной, исходя из исторических данных для текущего сезона.\n",
    "   - Данные на самом деле не совсем реальные (сюрпрайз). Поэтому на момент эксперимента погода в Берлине, Каире и Дубае была в рамках нормы, а в Пекине и Москве аномальная. Протестируйте свое решение для разных городов.\n",
    "   - Попробуйте для получения текущей температуры использовать синхронные и асинхронные методы. Что здесь лучше использовать?"
   ]
  },
  {
   "cell_type": "code",
   "execution_count": 14,
   "metadata": {
    "colab": {
     "base_uri": "https://localhost:8080/"
    },
    "id": "U0XdFqxXBKRH",
    "outputId": "b4e2259e-85e9-43e0-d85b-62270458f11d"
   },
   "outputs": [
    {
     "name": "stdout",
     "output_type": "stream",
     "text": [
      "Synchronous method:\n"
     ]
    },
    {
     "data": {
      "text/html": [
       "<div>\n",
       "<style scoped>\n",
       "    .dataframe tbody tr th:only-of-type {\n",
       "        vertical-align: middle;\n",
       "    }\n",
       "\n",
       "    .dataframe tbody tr th {\n",
       "        vertical-align: top;\n",
       "    }\n",
       "\n",
       "    .dataframe thead th {\n",
       "        text-align: right;\n",
       "    }\n",
       "</style>\n",
       "<table border=\"1\" class=\"dataframe\">\n",
       "  <thead>\n",
       "    <tr style=\"text-align: right;\">\n",
       "      <th></th>\n",
       "      <th>city</th>\n",
       "      <th>current_temperature</th>\n",
       "      <th>normal</th>\n",
       "      <th>time</th>\n",
       "    </tr>\n",
       "  </thead>\n",
       "  <tbody>\n",
       "    <tr>\n",
       "      <th>0</th>\n",
       "      <td>Berlin</td>\n",
       "      <td>5.64</td>\n",
       "      <td>True</td>\n",
       "      <td>0.144432</td>\n",
       "    </tr>\n",
       "    <tr>\n",
       "      <th>1</th>\n",
       "      <td>Cairo</td>\n",
       "      <td>21.42</td>\n",
       "      <td>True</td>\n",
       "      <td>0.144628</td>\n",
       "    </tr>\n",
       "    <tr>\n",
       "      <th>2</th>\n",
       "      <td>Dubai</td>\n",
       "      <td>21.96</td>\n",
       "      <td>True</td>\n",
       "      <td>0.148263</td>\n",
       "    </tr>\n",
       "    <tr>\n",
       "      <th>3</th>\n",
       "      <td>Beijing</td>\n",
       "      <td>-5.06</td>\n",
       "      <td>True</td>\n",
       "      <td>0.144182</td>\n",
       "    </tr>\n",
       "    <tr>\n",
       "      <th>4</th>\n",
       "      <td>Moscow</td>\n",
       "      <td>-1.78</td>\n",
       "      <td>True</td>\n",
       "      <td>0.145785</td>\n",
       "    </tr>\n",
       "  </tbody>\n",
       "</table>\n",
       "</div>"
      ],
      "text/plain": [
       "      city  current_temperature  normal      time\n",
       "0   Berlin                 5.64    True  0.144432\n",
       "1    Cairo                21.42    True  0.144628\n",
       "2    Dubai                21.96    True  0.148263\n",
       "3  Beijing                -5.06    True  0.144182\n",
       "4   Moscow                -1.78    True  0.145785"
      ]
     },
     "metadata": {},
     "output_type": "display_data"
    },
    {
     "name": "stdout",
     "output_type": "stream",
     "text": [
      "Asynchronous method:\n"
     ]
    },
    {
     "data": {
      "text/html": [
       "<div>\n",
       "<style scoped>\n",
       "    .dataframe tbody tr th:only-of-type {\n",
       "        vertical-align: middle;\n",
       "    }\n",
       "\n",
       "    .dataframe tbody tr th {\n",
       "        vertical-align: top;\n",
       "    }\n",
       "\n",
       "    .dataframe thead th {\n",
       "        text-align: right;\n",
       "    }\n",
       "</style>\n",
       "<table border=\"1\" class=\"dataframe\">\n",
       "  <thead>\n",
       "    <tr style=\"text-align: right;\">\n",
       "      <th></th>\n",
       "      <th>city</th>\n",
       "      <th>current_temperature</th>\n",
       "      <th>normal</th>\n",
       "      <th>time</th>\n",
       "    </tr>\n",
       "  </thead>\n",
       "  <tbody>\n",
       "    <tr>\n",
       "      <th>0</th>\n",
       "      <td>Berlin</td>\n",
       "      <td>5.64</td>\n",
       "      <td>True</td>\n",
       "      <td>0.183516</td>\n",
       "    </tr>\n",
       "    <tr>\n",
       "      <th>1</th>\n",
       "      <td>Cairo</td>\n",
       "      <td>21.42</td>\n",
       "      <td>True</td>\n",
       "      <td>0.144257</td>\n",
       "    </tr>\n",
       "    <tr>\n",
       "      <th>2</th>\n",
       "      <td>Dubai</td>\n",
       "      <td>21.96</td>\n",
       "      <td>True</td>\n",
       "      <td>0.143298</td>\n",
       "    </tr>\n",
       "    <tr>\n",
       "      <th>3</th>\n",
       "      <td>Beijing</td>\n",
       "      <td>-5.06</td>\n",
       "      <td>True</td>\n",
       "      <td>0.155492</td>\n",
       "    </tr>\n",
       "    <tr>\n",
       "      <th>4</th>\n",
       "      <td>Moscow</td>\n",
       "      <td>-1.78</td>\n",
       "      <td>True</td>\n",
       "      <td>0.153689</td>\n",
       "    </tr>\n",
       "  </tbody>\n",
       "</table>\n",
       "</div>"
      ],
      "text/plain": [
       "      city  current_temperature  normal      time\n",
       "0   Berlin                 5.64    True  0.183516\n",
       "1    Cairo                21.42    True  0.144257\n",
       "2    Dubai                21.96    True  0.143298\n",
       "3  Beijing                -5.06    True  0.155492\n",
       "4   Moscow                -1.78    True  0.153689"
      ]
     },
     "metadata": {},
     "output_type": "display_data"
    }
   ],
   "source": [
    "from src.utils import get_current_temperature_sync, get_current_temperature_async, check_current_temperature\n",
    "\n",
    "\n",
    "cities = [\"Berlin\", \"Cairo\", \"Dubai\", \"Beijing\", \"Moscow\"]\n",
    "\n",
    "\n",
    "def main_sync():\n",
    "\n",
    "    results = []\n",
    "    for city in cities:\n",
    "        start_time = time.time()\n",
    "        current_temperature_sync = get_current_temperature_sync(city)\n",
    "        sync_time = time.time() - start_time\n",
    "        normal = check_current_temperature(df_sequential, city, current_temperature_sync)\n",
    "\n",
    "        result = {\n",
    "            'city': city,\n",
    "            'current_temperature': current_temperature_sync,\n",
    "            'normal': normal,\n",
    "            'time': sync_time,\n",
    "        }\n",
    "        results.append(result)\n",
    "\n",
    "    display(pd.DataFrame(results))\n",
    "\n",
    "\n",
    "async def main_async():\n",
    "\n",
    "    results = []\n",
    "    for city in cities:\n",
    "        start_time = time.time()\n",
    "        current_temperature_async = await get_current_temperature_async(city)\n",
    "        async_time = time.time() - start_time\n",
    "        normal = check_current_temperature(df_sequential, city, current_temperature_async)\n",
    "\n",
    "        result = {\n",
    "            'city': city,\n",
    "            'current_temperature': current_temperature_async,\n",
    "            'normal': normal,\n",
    "            'time': async_time,\n",
    "        }\n",
    "        results.append(result)\n",
    "\n",
    "    display(pd.DataFrame(results))\n",
    "\n",
    "\n",
    "print(\"Synchronous method:\")\n",
    "main_sync()\n",
    "\n",
    "print(\"Asynchronous method:\")\n",
    "await main_async()"
   ]
  },
  {
   "cell_type": "markdown",
   "metadata": {
    "id": "UnKwA1S-GklT"
   },
   "source": [
    "### 3. **Создание приложения на Streamlit**:\n",
    "   - Добавить интерфейс для загрузки файла с историческими данными.\n",
    "   - Добавить интерфейс для выбора города (из выпадающего списка).\n",
    "   - Добавить форму для ввода API-ключа OpenWeatherMap. Когда он не введен, данные для текущей погоды не показываются. Если ключ некорректный, выведите на экран ошибку (должно приходить `{\"cod\":401, \"message\": \"Invalid API key. Please see https://openweathermap.org/faq#error401 for more info.\"}`).\n",
    "   - Отобразить:\n",
    "     - Описательную статистику по историческим данным для города, можно добавить визуализации.\n",
    "     - Временной ряд температур с выделением аномалий (например, точками другого цвета).\n",
    "     - Сезонные профили с указанием среднего и стандартного отклонения.\n",
    "   - Вывести текущую температуру через API и указать, нормальна ли она для сезона."
   ]
  },
  {
   "cell_type": "code",
   "execution_count": null,
   "metadata": {
    "colab": {
     "base_uri": "https://localhost:8080/",
     "height": 108
    },
    "id": "zxaJw3hZGmZf",
    "outputId": "2c06ac06-7b5a-4fdb-924c-f2fc0ba080b1"
   },
   "outputs": [],
   "source": [
    "!streamlit run app.py"
   ]
  }
 ],
 "metadata": {
  "colab": {
   "provenance": []
  },
  "kernelspec": {
   "display_name": "Python 3 (ipykernel)",
   "language": "python",
   "name": "python3"
  },
  "language_info": {
   "codemirror_mode": {
    "name": "ipython",
    "version": 3
   },
   "file_extension": ".py",
   "mimetype": "text/x-python",
   "name": "python",
   "nbconvert_exporter": "python",
   "pygments_lexer": "ipython3",
   "version": "3.10.8"
  }
 },
 "nbformat": 4,
 "nbformat_minor": 4
}
